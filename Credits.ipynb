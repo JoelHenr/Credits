{
 "metadata": {
  "language_info": {
   "codemirror_mode": {
    "name": "ipython",
    "version": 3
   },
   "file_extension": ".py",
   "mimetype": "text/x-python",
   "name": "python",
   "nbconvert_exporter": "python",
   "pygments_lexer": "ipython3",
   "version": "3.7.4-final"
  },
  "orig_nbformat": 2,
  "kernelspec": {
   "name": "python3",
   "display_name": "Python 3"
  }
 },
 "nbformat": 4,
 "nbformat_minor": 2,
 "cells": [
  {
   "cell_type": "code",
   "execution_count": 19,
   "metadata": {},
   "outputs": [
    {
     "output_type": "stream",
     "name": "stdout",
     "text": [
      "First 50 Total: 25073\nSecond 50 Total:24749\nNew Interest:-0.013091438037900522,  take money out\nTotal = 24749, New Interest = -0.013091438037900522, Total w/ Int = 24425.0\n"
     ]
    }
   ],
   "source": [
    "import random\n",
    "\n",
    "# Set interest rate to 1\n",
    "interest = 0\n",
    "\n",
    "# transactions generator \n",
    "trans = [random.randrange(1, 1000) for _ in range(100)]\n",
    "\n",
    "# geting the last 10 actual transactions \n",
    "first_actuals = trans[0:50:]\n",
    "last_actuals = trans[50::]\n",
    "\n",
    "# defining the class \"credits\"\n",
    "class Credit():\n",
    "    def __init__(self, interest, first_actuals, last_actuals, trans):\n",
    "        self.interest = interest\n",
    "        self.trans = trans\n",
    "        self.first_actuals = first_actuals\n",
    "        self.last_actuals = last_actuals\n",
    "    \n",
    "#  creating a max and min formula as alternative    \n",
    "    def fiscal_eliminator(self):\n",
    "        \n",
    "        # Finding the total sum of the first and second 50 transactions \n",
    "        total_value1 = 0\n",
    "        for i in first_actuals:\n",
    "            i += 0 \n",
    "            total_value1 += i \n",
    "        total_value2 = 0\n",
    "        for i in last_actuals:\n",
    "            i += 0 \n",
    "            total_value2 += i\n",
    "        print(f'First 50 Total: {total_value1}')\n",
    "        print(f'Second 50 Total:{total_value2}')\n",
    "        \n",
    "        # stablizing inflatiion and deflation \n",
    "        if total_value2 == total_value1:\n",
    "            print('stable')\n",
    "        elif total_value2 > total_value1:\n",
    "            diff = total_value2 - total_value1\n",
    "            self.interest = diff/total_value1\n",
    "            print(f'New Interest:{self.interest}, more money supply')\n",
    "        elif total_value1 > total_value2:\n",
    "            diff = total_value1 - total_value2\n",
    "            self.interest = - diff/total_value2\n",
    "            print(f'New Interest:{self.interest},  take money out')\n",
    "        \n",
    "        total = 0\n",
    "        for i in self.trans:\n",
    "            i+=0 \n",
    "            total += i \n",
    "            total_plusint = total + (total *  self.interest)\n",
    "        return (f'Total = {total}, New Interest = {self.interest}, Total w/ Int = {total_plusint}')\n",
    "\n",
    "    \n",
    "    # created an average to sustitute rise/run\n",
    "        def averages_val(self):\n",
    "            total = 0\n",
    "            for i in self.trans:\n",
    "                i += 1 \n",
    "                total += i\n",
    "            averages = total/len(self.trans) # using an average as the slope\n",
    "            return averages\n",
    "        \n",
    "\n",
    "      \n",
    "# giving an interest to all parties in a transaction\n",
    "     \n",
    "test0 = Credit(interest, trans, first_actuals, last_actuals)\n",
    "print(test0.fiscal_eliminator())\n",
    "\n",
    "\n",
    "\n"
   ]
  },
  {
   "cell_type": "code",
   "execution_count": null,
   "metadata": {},
   "outputs": [],
   "source": []
  }
 ]
}